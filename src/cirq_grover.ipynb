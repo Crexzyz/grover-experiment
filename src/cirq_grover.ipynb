{
 "cells": [
  {
   "cell_type": "code",
   "execution_count": 1,
   "metadata": {},
   "outputs": [
    {
     "name": "stdout",
     "output_type": "stream",
     "text": [
      "          ┌──┐   ┌──┐   ┌──┐\n",
      "0: ───@─────@──────────────────────\n",
      "      │     │\n",
      "1: ───┼────@┼──────@───────────────\n",
      "      │    ││      │\n",
      "2: ───┼────┼┼─────@┼──────@────────\n",
      "      │    ││     ││      │\n",
      "3: ───┼────┼┼─────┼┼─────@┼────@───\n",
      "      │    ││     ││     ││    │\n",
      "4: ───X────X┼─────┼┼─────┼┼────┼───\n",
      "            │     ││     ││    │\n",
      "5: ─────────X─────X┼─────┼┼────┼───\n",
      "                   │     ││    │\n",
      "6: ────────────────X─────X┼────┼───\n",
      "                          │    │\n",
      "7: ───────────────────────X────X───\n",
      "          └──┘   └──┘   └──┘\n"
     ]
    }
   ],
   "source": [
    "from cirq_grover import CirqGrover\n",
    "\n",
    "grover = CirqGrover()\n",
    "\n",
    "qc = grover.Oracle()\n",
    "\n",
    "# Print the circuit\n",
    "print(qc)"
   ]
  },
  {
   "cell_type": "code",
   "execution_count": null,
   "metadata": {},
   "outputs": [],
   "source": [
    "simulator = cirq.Simulator()\n",
    "result = simulator.simulate(circuit)\n",
    "print(result)\n",
    "\n",
    "circuit.append(cirq.measure(q0, q1, key='result'))\n",
    "\n",
    "# Sample the circuit\n",
    "samples = simulator.run(circuit, repetitions=1000)"
   ]
  },
  {
   "cell_type": "code",
   "execution_count": null,
   "metadata": {},
   "outputs": [],
   "source": [
    "\n",
    "cirq.plot_state_histogram(samples, plt.subplot())\n",
    "plt.show()\n",
    "\n",
    "# Pull of histogram counts from the result data structure\n",
    "counts = samples.histogram(key='result')\n",
    "print(counts)\n",
    "\n",
    "bcounts = {format(int(key), 'b'): value for key, value in counts.items()}\n",
    "\n",
    "# Plot the histogram\n",
    "plt.bar(bcounts.keys(), bcounts.values())\n",
    "plt.xlabel('Measurement Outcome (Binary)')\n",
    "plt.ylabel('Frequency (Counts)')\n",
    "plt.title('Measurement Histogram')\n",
    "plt.xticks(rotation=45)  # Rotate x-axis labels for better readability\n",
    "plt.show()"
   ]
  }
 ],
 "metadata": {
  "kernelspec": {
   "display_name": ".env",
   "language": "python",
   "name": "python3"
  },
  "language_info": {
   "codemirror_mode": {
    "name": "ipython",
    "version": 3
   },
   "file_extension": ".py",
   "mimetype": "text/x-python",
   "name": "python",
   "nbconvert_exporter": "python",
   "pygments_lexer": "ipython3",
   "version": "3.9.2"
  },
  "orig_nbformat": 4
 },
 "nbformat": 4,
 "nbformat_minor": 2
}
